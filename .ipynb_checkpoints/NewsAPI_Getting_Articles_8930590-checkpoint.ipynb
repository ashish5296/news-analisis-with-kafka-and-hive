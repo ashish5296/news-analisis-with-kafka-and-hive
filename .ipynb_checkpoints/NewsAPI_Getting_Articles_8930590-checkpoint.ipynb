{
 "cells": [
  {
   "cell_type": "markdown",
   "metadata": {
    "id": "pTCs6BCZK0mh"
   },
   "source": [
    "# NewsAPI  - Getting articles\n",
    "This API can get news articles from different sources and different topics.  \n",
    "\n",
    "Documentation for Python API can be found at:  \n",
    "https://github.com/mattlisiv/newsapi-python\n",
    "\n"
   ]
  },
  {
   "cell_type": "code",
   "execution_count": 8,
   "metadata": {},
   "outputs": [],
   "source": [
    "from newsapi import NewsApiClient\n",
    "import json\n",
    "from kafka import KafkaProducer\n",
    "from textblob import TextBlob"
   ]
  },
  {
   "cell_type": "code",
   "execution_count": 9,
   "metadata": {
    "id": "WDU_AXgcI9Hd"
   },
   "outputs": [],
   "source": [
    "# Get your free API key from https://newsapi.org/, just need to sign up for an account\n",
    "key = \"8b331c71e2294e45bfae1d93054177df\""
   ]
  },
  {
   "cell_type": "code",
   "execution_count": 6,
   "metadata": {
    "colab": {
     "base_uri": "https://localhost:8080/"
    },
    "id": "hN0x3H1WHxtE",
    "outputId": "b127bce5-f0a6-43bc-b76c-49d019ee890b"
   },
   "outputs": [
    {
     "name": "stdout",
     "output_type": "stream",
     "text": [
      "[Removed]  :  [Removed]\n",
      "[Removed]  :  [Removed]\n",
      "[Removed]  :  [Removed]\n",
      "[Removed]  :  [Removed]\n",
      "[Removed]  :  [Removed]\n",
      "[Removed]  :  [Removed]\n",
      "[Removed]  :  [Removed]\n",
      "[Removed]  :  [Removed]\n",
      "NBC News  :  Bitcoin hits $80,000 for the first time as crypto traders bask in Trump election victory\n",
      "NBC News  :  Price of bitcoin hits all-time high as Trump victory sinks in\n",
      "NBC News  :  'Trump trade' takes off: Tesla, Bitcoin and Truth Social boom in election aftermath\n",
      "[Removed]  :  [Removed]\n",
      "[Removed]  :  [Removed]\n",
      "[Removed]  :  [Removed]\n",
      "[Removed]  :  [Removed]\n",
      "USA Today  :  Retired NFL lineman Russell Okung waited 4 years to dunk on his Bitcoin haters\n",
      "[Removed]  :  [Removed]\n",
      "NBC News  :  Coinbase's big election bet is about to be tested\n",
      "NBC News  :  Big Tech CEOs send well wishes to Trump\n",
      "NBC News  :  Elon Musk is $70 billion richer since Trump victory due to Tesla stock surge\n",
      "[Removed]  :  [Removed]\n",
      "[Removed]  :  [Removed]\n",
      "[Removed]  :  [Removed]\n",
      "CNN  :  Bitcoin hits $80,000. Why Trump is boosting crypto | CNN Business\n",
      "[Removed]  :  [Removed]\n",
      "[Removed]  :  [Removed]\n",
      "NBC News  :  Election 2024 live updates: Trump secures win over Harris in presidential race\n",
      "CNN  :  Trump’s social media stock spikes as America goes to the polls | CNN Business\n",
      "USA Today  :  Stocks surge to record highs as Trump returns to presidency\n",
      "CNN  :  Dow surges by 1,300 points as Trump is reelected | CNN Business\n"
     ]
    }
   ],
   "source": [
    "# Initialize API endpoint\n",
    "newsapi = NewsApiClient(api_key=key)\n",
    "\n",
    "# Define the list of media sources\n",
    "sources = 'bbc-news,cnn,fox-news,nbc-news,the-guardian-uk,the-new-york-times,the-washington-post,usa-today,independent,daily-mail'\n",
    "\n",
    "query = 'bitcoin'\n",
    "\n",
    "# /v2/everything - note there are other parameters you can set\n",
    "all_articles = newsapi.get_everything(q=query,\n",
    "                                      sources=sources,\n",
    "                                      from_param='2024-11-01',\n",
    "                                      to='2024-11-12',\n",
    "                                      language='en',\n",
    "                                      sort_by='relevancy'\n",
    "                                        )\n",
    "\n",
    "# Print the titles of the articles\n",
    "for article in all_articles['articles']:\n",
    "    print(article['source']['name'] , \" : \", article['title'])\n"
   ]
  },
  {
   "cell_type": "code",
   "execution_count": 7,
   "metadata": {
    "scrolled": true
   },
   "outputs": [
    {
     "name": "stdout",
     "output_type": "stream",
     "text": [
      "\n",
      "Sentiment Analysis for articles about 'bitcoin':\n",
      "\n",
      "Source: [Removed]\n",
      "Title: [Removed]\n",
      "Description: [Removed]\n",
      "Sentiment Polarity: 0.00\n",
      "--------------------------------------------------\n",
      "Source: [Removed]\n",
      "Title: [Removed]\n",
      "Description: [Removed]\n",
      "Sentiment Polarity: 0.00\n",
      "--------------------------------------------------\n",
      "Source: [Removed]\n",
      "Title: [Removed]\n",
      "Description: [Removed]\n",
      "Sentiment Polarity: 0.00\n",
      "--------------------------------------------------\n",
      "Source: [Removed]\n",
      "Title: [Removed]\n",
      "Description: [Removed]\n",
      "Sentiment Polarity: 0.00\n",
      "--------------------------------------------------\n",
      "Source: [Removed]\n",
      "Title: [Removed]\n",
      "Description: [Removed]\n",
      "Sentiment Polarity: 0.00\n",
      "--------------------------------------------------\n",
      "Source: [Removed]\n",
      "Title: [Removed]\n",
      "Description: [Removed]\n",
      "Sentiment Polarity: 0.00\n",
      "--------------------------------------------------\n",
      "Source: [Removed]\n",
      "Title: [Removed]\n",
      "Description: [Removed]\n",
      "Sentiment Polarity: 0.00\n",
      "--------------------------------------------------\n",
      "Source: [Removed]\n",
      "Title: [Removed]\n",
      "Description: [Removed]\n",
      "Sentiment Polarity: 0.00\n",
      "--------------------------------------------------\n",
      "Source: NBC News\n",
      "Title: Bitcoin hits $80,000 for the first time as crypto traders bask in Trump election victory\n",
      "Description: Cryptocurrencies extended their rally on Sunday, with bitcoin touching $80,000 for the first time ever.\n",
      "Sentiment Polarity: 0.38\n",
      "--------------------------------------------------\n",
      "Source: NBC News\n",
      "Title: Price of bitcoin hits all-time high as Trump victory sinks in\n",
      "Description: The price of bitcoin hit an all-time high this weekend, a rally that started shortly after Donald Trump was declared the winner of the 2024 election.\n",
      "Sentiment Polarity: 0.08\n",
      "--------------------------------------------------\n",
      "Source: NBC News\n",
      "Title: 'Trump trade' takes off: Tesla, Bitcoin and Truth Social boom in election aftermath\n",
      "Description: The value of assets tied to Donald Trump — and those likely to benefit under his administration — are soaring in the wake of his decisive electoral victory on Tuesday.\n",
      "Sentiment Polarity: 0.00\n",
      "--------------------------------------------------\n",
      "Source: [Removed]\n",
      "Title: [Removed]\n",
      "Description: [Removed]\n",
      "Sentiment Polarity: 0.00\n",
      "--------------------------------------------------\n",
      "Source: [Removed]\n",
      "Title: [Removed]\n",
      "Description: [Removed]\n",
      "Sentiment Polarity: 0.00\n",
      "--------------------------------------------------\n",
      "Source: [Removed]\n",
      "Title: [Removed]\n",
      "Description: [Removed]\n",
      "Sentiment Polarity: 0.00\n",
      "--------------------------------------------------\n",
      "Source: [Removed]\n",
      "Title: [Removed]\n",
      "Description: [Removed]\n",
      "Sentiment Polarity: 0.00\n",
      "--------------------------------------------------\n",
      "Source: USA Today\n",
      "Title: Retired NFL lineman Russell Okung waited 4 years to dunk on his Bitcoin haters\n",
      "Description: Russell Okung started posting like a wide receiver now that he's paid like one.\n",
      "Sentiment Polarity: -0.10\n",
      "--------------------------------------------------\n",
      "Source: [Removed]\n",
      "Title: [Removed]\n",
      "Description: [Removed]\n",
      "Sentiment Polarity: 0.00\n",
      "--------------------------------------------------\n",
      "Source: NBC News\n",
      "Title: Coinbase's big election bet is about to be tested\n",
      "Description: WASHINGTON — In the first few years after founding Coinbase, CEO Brian Armstrong shied away from Washington, D.C.\n",
      "Sentiment Polarity: 0.02\n",
      "--------------------------------------------------\n",
      "Source: NBC News\n",
      "Title: Big Tech CEOs send well wishes to Trump\n",
      "Description: Tech world reactions came from leaders including Mark Zuckerberg and Jeff Bezos.\n",
      "Sentiment Polarity: 0.00\n",
      "--------------------------------------------------\n",
      "Source: NBC News\n",
      "Title: Elon Musk is $70 billion richer since Trump victory due to Tesla stock surge\n",
      "Description: Elon Musk spent $44 billion to buy Twitter, now known as X, and at least $130 million to help get Donald Trump elected president.\n",
      "Sentiment Polarity: -0.20\n",
      "--------------------------------------------------\n",
      "Source: [Removed]\n",
      "Title: [Removed]\n",
      "Description: [Removed]\n",
      "Sentiment Polarity: 0.00\n",
      "--------------------------------------------------\n",
      "Source: [Removed]\n",
      "Title: [Removed]\n",
      "Description: [Removed]\n",
      "Sentiment Polarity: 0.00\n",
      "--------------------------------------------------\n",
      "Source: [Removed]\n",
      "Title: [Removed]\n",
      "Description: [Removed]\n",
      "Sentiment Polarity: 0.00\n",
      "--------------------------------------------------\n",
      "Source: CNN\n",
      "Title: Bitcoin hits $80,000. Why Trump is boosting crypto | CNN Business\n",
      "Description: Bitcoin on Sunday hit a new record above $80,000. The world’s largest cryptocurrency surged in the run-up to Tuesday’s US presidential election, rose sharply immediately on election night after it became clear Donald Trump would win and has continued rising i…\n",
      "Sentiment Polarity: 0.25\n",
      "--------------------------------------------------\n",
      "Source: [Removed]\n",
      "Title: [Removed]\n",
      "Description: [Removed]\n",
      "Sentiment Polarity: 0.00\n",
      "--------------------------------------------------\n",
      "Source: [Removed]\n",
      "Title: [Removed]\n",
      "Description: [Removed]\n",
      "Sentiment Polarity: 0.00\n",
      "--------------------------------------------------\n",
      "Source: NBC News\n",
      "Title: Election 2024 live updates: Trump secures win over Harris in presidential race\n",
      "Description: Live updates and the latest news on the 2024 election as Donald Trump amasses Electoral College votes.\n",
      "Sentiment Polarity: 0.32\n",
      "--------------------------------------------------\n",
      "Source: CNN\n",
      "Title: Trump’s social media stock spikes as America goes to the polls | CNN Business\n",
      "Description: Former President Donald Trump’s social media company is surging on Election Day as it faces a potential make-or-break moment that will be decided by voters.\n",
      "Sentiment Polarity: 0.01\n",
      "--------------------------------------------------\n",
      "Source: USA Today\n",
      "Title: Stocks surge to record highs as Trump returns to presidency\n",
      "Description: Wall Street is anticipating lower taxes, deregulation and a US president who is quick to sound off on everything from the stock market to the dollar.\n",
      "Sentiment Polarity: 0.37\n",
      "--------------------------------------------------\n",
      "Source: CNN\n",
      "Title: Dow surges by 1,300 points as Trump is reelected | CNN Business\n",
      "Description: US stocks rose sharply Wednesday morning following a decisive and consequential victory for former President Donald Trump in Tuesday’s US presidential election.\n",
      "Sentiment Polarity: 0.12\n",
      "--------------------------------------------------\n"
     ]
    }
   ],
   "source": [
    "# Perform sentiment analysis\n",
    "results = []\n",
    "\n",
    "print(f\"\\nSentiment Analysis for articles about '{query}':\\n\")\n",
    "for article in all_articles['articles']:\n",
    "    title = article['title']\n",
    "    description = article['description'] or \"No description provided\"\n",
    "    source = article['source']['name']\n",
    "\n",
    "    # Analyze sentiment\n",
    "    polarity = TextBlob(description).sentiment.polarity  # Polarity ranges from -1 (negative) to 1 (positive)\n",
    "    \n",
    "    # Store results\n",
    "    results.append({\n",
    "        \"source\": source,\n",
    "        \"title\": title,\n",
    "        \"description\": description,\n",
    "        \"polarity\": polarity\n",
    "    })\n",
    "\n",
    "# Display results\n",
    "for result in results:\n",
    "    print(f\"Source: {result['source']}\")\n",
    "    print(f\"Title: {result['title']}\")\n",
    "    print(f\"Description: {result['description']}\")\n",
    "    print(f\"Sentiment Polarity: {result['polarity']:.2f}\")\n",
    "    print(\"-\" * 50)"
   ]
  },
  {
   "cell_type": "code",
   "execution_count": 6,
   "metadata": {},
   "outputs": [],
   "source": [
    "import pandas as pd\n",
    "import matplotlib.pyplot as plt\n",
    "import seaborn as sns\n"
   ]
  },
  {
   "cell_type": "code",
   "execution_count": 7,
   "metadata": {
    "scrolled": true
   },
   "outputs": [
    {
     "data": {
      "text/html": [
       "<div>\n",
       "<style scoped>\n",
       "    .dataframe tbody tr th:only-of-type {\n",
       "        vertical-align: middle;\n",
       "    }\n",
       "\n",
       "    .dataframe tbody tr th {\n",
       "        vertical-align: top;\n",
       "    }\n",
       "\n",
       "    .dataframe thead th {\n",
       "        text-align: right;\n",
       "    }\n",
       "</style>\n",
       "<table border=\"1\" class=\"dataframe\">\n",
       "  <thead>\n",
       "    <tr style=\"text-align: right;\">\n",
       "      <th></th>\n",
       "      <th>source</th>\n",
       "      <th>title</th>\n",
       "      <th>description</th>\n",
       "      <th>polarity</th>\n",
       "    </tr>\n",
       "  </thead>\n",
       "  <tbody>\n",
       "    <tr>\n",
       "      <th>8</th>\n",
       "      <td>NBC News</td>\n",
       "      <td>Bitcoin hits $80,000 for the first time as cry...</td>\n",
       "      <td>Cryptocurrencies extended their rally on Sunda...</td>\n",
       "      <td>0.375</td>\n",
       "    </tr>\n",
       "    <tr>\n",
       "      <th>9</th>\n",
       "      <td>NBC News</td>\n",
       "      <td>Price of bitcoin hits all-time high as Trump v...</td>\n",
       "      <td>The price of bitcoin hit an all-time high this...</td>\n",
       "      <td>0.080</td>\n",
       "    </tr>\n",
       "    <tr>\n",
       "      <th>10</th>\n",
       "      <td>NBC News</td>\n",
       "      <td>'Trump trade' takes off: Tesla, Bitcoin and Tr...</td>\n",
       "      <td>The value of assets tied to Donald Trump — and...</td>\n",
       "      <td>0.000</td>\n",
       "    </tr>\n",
       "    <tr>\n",
       "      <th>15</th>\n",
       "      <td>USA Today</td>\n",
       "      <td>Retired NFL lineman Russell Okung waited 4 yea...</td>\n",
       "      <td>Russell Okung started posting like a wide rece...</td>\n",
       "      <td>-0.100</td>\n",
       "    </tr>\n",
       "    <tr>\n",
       "      <th>17</th>\n",
       "      <td>NBC News</td>\n",
       "      <td>Coinbase's big election bet is about to be tested</td>\n",
       "      <td>WASHINGTON — In the first few years after foun...</td>\n",
       "      <td>0.025</td>\n",
       "    </tr>\n",
       "  </tbody>\n",
       "</table>\n",
       "</div>"
      ],
      "text/plain": [
       "       source                                              title  \\\n",
       "8    NBC News  Bitcoin hits $80,000 for the first time as cry...   \n",
       "9    NBC News  Price of bitcoin hits all-time high as Trump v...   \n",
       "10   NBC News  'Trump trade' takes off: Tesla, Bitcoin and Tr...   \n",
       "15  USA Today  Retired NFL lineman Russell Okung waited 4 yea...   \n",
       "17   NBC News  Coinbase's big election bet is about to be tested   \n",
       "\n",
       "                                          description  polarity  \n",
       "8   Cryptocurrencies extended their rally on Sunda...     0.375  \n",
       "9   The price of bitcoin hit an all-time high this...     0.080  \n",
       "10  The value of assets tied to Donald Trump — and...     0.000  \n",
       "15  Russell Okung started posting like a wide rece...    -0.100  \n",
       "17  WASHINGTON — In the first few years after foun...     0.025  "
      ]
     },
     "execution_count": 7,
     "metadata": {},
     "output_type": "execute_result"
    }
   ],
   "source": [
    "# Convert results to DataFrame\n",
    "df = pd.DataFrame(results)\n",
    "\n",
    "# Drop the rows with '[Removed]'\n",
    "df = df[df['source'] != '[Removed]']\n",
    "\n",
    "# Display the DataFrame\n",
    "df.head()"
   ]
  },
  {
   "cell_type": "code",
   "execution_count": 9,
   "metadata": {},
   "outputs": [
    {
     "data": {
      "text/plain": [
       "12"
      ]
     },
     "execution_count": 9,
     "metadata": {},
     "output_type": "execute_result"
    }
   ],
   "source": [
    "# Number of rows\n",
    "df.shape[0]"
   ]
  },
  {
   "cell_type": "code",
   "execution_count": 10,
   "metadata": {},
   "outputs": [
    {
     "data": {
      "image/png": "[encoded data removed]",
      "text/plain": [
       "<Figure size 800x600 with 1 Axes>"
      ]
     },
     "metadata": {},
     "output_type": "display_data"
    }
   ],
   "source": [
    "# Generate a histogram for sentiment polarity\n",
    "plt.figure(figsize=(8, 6))\n",
    "sns.histplot(df['polarity'], bins=10, kde=True, color='blue')\n",
    "\n",
    "# Customize the plot\n",
    "plt.title('Distribution of Sentiment Polarity for Articles', fontsize=16)\n",
    "plt.xlabel('Sentiment Polarity', fontsize=14)\n",
    "plt.ylabel('Frequency', fontsize=14)\n",
    "plt.grid(axis='y', linestyle='--', alpha=0.7)\n",
    "plt.show()\n"
   ]
  },
  {
   "cell_type": "code",
   "execution_count": null,
   "metadata": {},
   "outputs": [],
   "source": []
  },
  {
   "cell_type": "code",
   "execution_count": null,
   "metadata": {},
   "outputs": [],
   "source": []
  }
 ],
 "metadata": {
  "colab": {
   "provenance": []
  },
  "kernelspec": {
   "display_name": "Python 3 (ipykernel)",
   "language": "python",
   "name": "python3"
  },
  "language_info": {
   "codemirror_mode": {
    "name": "ipython",
    "version": 3
   },
   "file_extension": ".py",
   "mimetype": "text/x-python",
   "name": "python",
   "nbconvert_exporter": "python",
   "pygments_lexer": "ipython3",
   "version": "3.8.19"
  }
 },
 "nbformat": 4,
 "nbformat_minor": 4
}
